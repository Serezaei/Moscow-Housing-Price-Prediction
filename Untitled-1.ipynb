{
 "cells": [
  {
   "cell_type": "code",
   "execution_count": 14,
   "metadata": {},
   "outputs": [],
   "source": [
    "## Importing Libraries\n",
    "\n",
    "import pandas as pd\n",
    "import matplotlib.pyplot as plt\n",
    "import numpy as np\n",
    "import seaborn as sns\n",
    "\n",
    "import sklearn\n",
    "from sklearn.model_selection import train_test_split, GridSearchCV\n",
    "from sklearn.metrics import r2_score, accuracy_score\n",
    "\n",
    "import xgboost as xgb\n",
    "from xgboost import XGBRegressor"
   ]
  },
  {
   "cell_type": "code",
   "execution_count": 15,
   "metadata": {},
   "outputs": [
    {
     "data": {
      "text/html": [
       "<div>\n",
       "<style scoped>\n",
       "    .dataframe tbody tr th:only-of-type {\n",
       "        vertical-align: middle;\n",
       "    }\n",
       "\n",
       "    .dataframe tbody tr th {\n",
       "        vertical-align: top;\n",
       "    }\n",
       "\n",
       "    .dataframe thead th {\n",
       "        text-align: right;\n",
       "    }\n",
       "</style>\n",
       "<table border=\"1\" class=\"dataframe\">\n",
       "  <thead>\n",
       "    <tr style=\"text-align: right;\">\n",
       "      <th></th>\n",
       "      <th>Price</th>\n",
       "      <th>Apartment type</th>\n",
       "      <th>Metro station</th>\n",
       "      <th>Minutes to metro</th>\n",
       "      <th>Region</th>\n",
       "      <th>Number of rooms</th>\n",
       "      <th>Area</th>\n",
       "      <th>Living area</th>\n",
       "      <th>Kitchen area</th>\n",
       "      <th>Floor</th>\n",
       "      <th>Number of floors</th>\n",
       "      <th>Renovation</th>\n",
       "    </tr>\n",
       "  </thead>\n",
       "  <tbody>\n",
       "    <tr>\n",
       "      <th>0</th>\n",
       "      <td>6300000</td>\n",
       "      <td>Secondary</td>\n",
       "      <td>Опалиха</td>\n",
       "      <td>6</td>\n",
       "      <td>Moscow region</td>\n",
       "      <td>1</td>\n",
       "      <td>30.6</td>\n",
       "      <td>11.1</td>\n",
       "      <td>8.5</td>\n",
       "      <td>25</td>\n",
       "      <td>25</td>\n",
       "      <td>Cosmetic</td>\n",
       "    </tr>\n",
       "    <tr>\n",
       "      <th>1</th>\n",
       "      <td>9000000</td>\n",
       "      <td>Secondary</td>\n",
       "      <td>Павшино</td>\n",
       "      <td>2</td>\n",
       "      <td>Moscow region</td>\n",
       "      <td>1</td>\n",
       "      <td>49.2</td>\n",
       "      <td>20.0</td>\n",
       "      <td>10.0</td>\n",
       "      <td>6</td>\n",
       "      <td>15</td>\n",
       "      <td>European-style renovation</td>\n",
       "    </tr>\n",
       "    <tr>\n",
       "      <th>2</th>\n",
       "      <td>11090000</td>\n",
       "      <td>Secondary</td>\n",
       "      <td>Мякинино</td>\n",
       "      <td>14</td>\n",
       "      <td>Moscow region</td>\n",
       "      <td>1</td>\n",
       "      <td>44.7</td>\n",
       "      <td>16.2</td>\n",
       "      <td>13.1</td>\n",
       "      <td>10</td>\n",
       "      <td>25</td>\n",
       "      <td>Cosmetic</td>\n",
       "    </tr>\n",
       "    <tr>\n",
       "      <th>3</th>\n",
       "      <td>8300000</td>\n",
       "      <td>Secondary</td>\n",
       "      <td>Строгино</td>\n",
       "      <td>8</td>\n",
       "      <td>Moscow region</td>\n",
       "      <td>1</td>\n",
       "      <td>35.1</td>\n",
       "      <td>16.0</td>\n",
       "      <td>11.0</td>\n",
       "      <td>12</td>\n",
       "      <td>33</td>\n",
       "      <td>European-style renovation</td>\n",
       "    </tr>\n",
       "    <tr>\n",
       "      <th>4</th>\n",
       "      <td>6450000</td>\n",
       "      <td>Secondary</td>\n",
       "      <td>Опалиха</td>\n",
       "      <td>6</td>\n",
       "      <td>Moscow region</td>\n",
       "      <td>1</td>\n",
       "      <td>37.7</td>\n",
       "      <td>15.2</td>\n",
       "      <td>4.0</td>\n",
       "      <td>5</td>\n",
       "      <td>5</td>\n",
       "      <td>Without renovation</td>\n",
       "    </tr>\n",
       "  </tbody>\n",
       "</table>\n",
       "</div>"
      ],
      "text/plain": [
       "      Price Apartment type Metro station  Minutes to metro         Region  \\\n",
       "0   6300000      Secondary       Опалиха                 6  Moscow region   \n",
       "1   9000000      Secondary       Павшино                 2  Moscow region   \n",
       "2  11090000      Secondary      Мякинино                14  Moscow region   \n",
       "3   8300000      Secondary      Строгино                 8  Moscow region   \n",
       "4   6450000      Secondary       Опалиха                 6  Moscow region   \n",
       "\n",
       "   Number of rooms  Area  Living area  Kitchen area  Floor  Number of floors  \\\n",
       "0                1  30.6         11.1           8.5     25                25   \n",
       "1                1  49.2         20.0          10.0      6                15   \n",
       "2                1  44.7         16.2          13.1     10                25   \n",
       "3                1  35.1         16.0          11.0     12                33   \n",
       "4                1  37.7         15.2           4.0      5                 5   \n",
       "\n",
       "                  Renovation  \n",
       "0                   Cosmetic  \n",
       "1  European-style renovation  \n",
       "2                   Cosmetic  \n",
       "3  European-style renovation  \n",
       "4         Without renovation  "
      ]
     },
     "execution_count": 15,
     "metadata": {},
     "output_type": "execute_result"
    }
   ],
   "source": [
    "## Importing dataset\n",
    "df = pd.read_csv('data.csv')\n",
    "df.head()"
   ]
  },
  {
   "cell_type": "code",
   "execution_count": 16,
   "metadata": {},
   "outputs": [
    {
     "name": "stdout",
     "output_type": "stream",
     "text": [
      "Index(['Price', 'Apartment type', 'Metro station', 'Minutes to metro',\n",
      "       'Region', 'Number of rooms', 'Area', 'Living area', 'Kitchen area',\n",
      "       'Floor', 'Number of floors', 'Renovation'],\n",
      "      dtype='object')\n"
     ]
    }
   ],
   "source": [
    "## Dataset columns\n",
    "print(df.columns)"
   ]
  },
  {
   "cell_type": "code",
   "execution_count": 17,
   "metadata": {},
   "outputs": [
    {
     "name": "stdout",
     "output_type": "stream",
     "text": [
      "(22676, 12)\n"
     ]
    }
   ],
   "source": [
    "## datasets number of rows\n",
    "print(df.shape)"
   ]
  },
  {
   "cell_type": "code",
   "execution_count": 18,
   "metadata": {},
   "outputs": [
    {
     "name": "stdout",
     "output_type": "stream",
     "text": [
      "Price               0\n",
      "Apartment type      0\n",
      "Metro station       0\n",
      "Minutes to metro    0\n",
      "Region              0\n",
      "Number of rooms     0\n",
      "Area                0\n",
      "Living area         0\n",
      "Kitchen area        0\n",
      "Floor               0\n",
      "Number of floors    0\n",
      "Renovation          0\n",
      "dtype: int64\n"
     ]
    }
   ],
   "source": [
    "## datasets number of Nulls\n",
    "print(df.isnull().sum())"
   ]
  },
  {
   "cell_type": "code",
   "execution_count": 19,
   "metadata": {},
   "outputs": [
    {
     "name": "stdout",
     "output_type": "stream",
     "text": [
      "Price               9979\n",
      "Apartment type         2\n",
      "Metro station        547\n",
      "Minutes to metro      56\n",
      "Region                 2\n",
      "Number of rooms       12\n",
      "Area                3017\n",
      "Living area         1302\n",
      "Kitchen area         481\n",
      "Floor                 72\n",
      "Number of floors      83\n",
      "Renovation             4\n",
      "dtype: int64\n"
     ]
    }
   ],
   "source": [
    "## datasets number of unique values in each feature\n",
    "print(df.nunique())"
   ]
  },
  {
   "cell_type": "code",
   "execution_count": 20,
   "metadata": {},
   "outputs": [
    {
     "name": "stdout",
     "output_type": "stream",
     "text": [
      "Apartment type do affect the price\n"
     ]
    },
    {
     "data": {
      "image/png": "[encoded data removed]",
      "text/plain": [
       "<Figure size 800x500 with 1 Axes>"
      ]
     },
     "metadata": {},
     "output_type": "display_data"
    }
   ],
   "source": [
    "plt.figure(figsize=(8,5))\n",
    "sns.boxplot(x='Apartment type', y='Price', data = df)\n",
    "plt.title('Price Distribution for Each Apartment Type')\n",
    "plt.ylabel('Price')\n",
    "plt.xlabel('Apartment Type')\n",
    "plt.yscale('log')\n",
    "plt.show\n",
    "print('Apartment type do affect the price')"
   ]
  },
  {
   "cell_type": "code",
   "execution_count": 21,
   "metadata": {},
   "outputs": [
    {
     "data": {
      "image/png": "[encoded data removed]",
      "text/plain": [
       "<Figure size 1000x600 with 1 Axes>"
      ]
     },
     "metadata": {},
     "output_type": "display_data"
    },
    {
     "name": "stdout",
     "output_type": "stream",
     "text": [
      "Region do affect the price\n"
     ]
    }
   ],
   "source": [
    "plt.figure(figsize=(10, 6))\n",
    "sns.boxplot(x='Region', y='Price', data=df)\n",
    "plt.title('Price Distribution for Each Region')\n",
    "plt.ylabel('Price')\n",
    "plt.xlabel('Region')\n",
    "plt.yscale('log')  \n",
    "plt.show()\n",
    "print('Region do affect the price')"
   ]
  },
  {
   "cell_type": "code",
   "execution_count": 22,
   "metadata": {},
   "outputs": [
    {
     "data": {
      "image/png": "[encoded data removed]",
      "text/plain": [
       "<Figure size 1000x600 with 1 Axes>"
      ]
     },
     "metadata": {},
     "output_type": "display_data"
    },
    {
     "name": "stdout",
     "output_type": "stream",
     "text": [
      "Renovation do affect the price\n"
     ]
    }
   ],
   "source": [
    "plt.figure(figsize=(10, 6))\n",
    "sns.boxplot(x='Renovation', y='Price', data=df)\n",
    "plt.title('Price Distribution for Each Renovation')\n",
    "plt.ylabel('Price')\n",
    "plt.xlabel('Renovation')\n",
    "plt.yscale('log')  \n",
    "plt.show()\n",
    "print('Renovation do affect the price')"
   ]
  },
  {
   "cell_type": "code",
   "execution_count": 23,
   "metadata": {},
   "outputs": [
    {
     "data": {
      "text/html": [
       "<div>\n",
       "<style scoped>\n",
       "    .dataframe tbody tr th:only-of-type {\n",
       "        vertical-align: middle;\n",
       "    }\n",
       "\n",
       "    .dataframe tbody tr th {\n",
       "        vertical-align: top;\n",
       "    }\n",
       "\n",
       "    .dataframe thead th {\n",
       "        text-align: right;\n",
       "    }\n",
       "</style>\n",
       "<table border=\"1\" class=\"dataframe\">\n",
       "  <thead>\n",
       "    <tr style=\"text-align: right;\">\n",
       "      <th></th>\n",
       "      <th>Price</th>\n",
       "      <th>Apartment type</th>\n",
       "      <th>Metro station</th>\n",
       "      <th>Minutes to metro</th>\n",
       "      <th>Region</th>\n",
       "      <th>Number of rooms</th>\n",
       "      <th>Area</th>\n",
       "      <th>Living area</th>\n",
       "      <th>Kitchen area</th>\n",
       "      <th>Floor</th>\n",
       "      <th>Number of floors</th>\n",
       "      <th>Renovation_Cosmetic</th>\n",
       "      <th>Renovation_Designer</th>\n",
       "      <th>Renovation_European-style renovation</th>\n",
       "      <th>Renovation_Without renovation</th>\n",
       "    </tr>\n",
       "  </thead>\n",
       "  <tbody>\n",
       "    <tr>\n",
       "      <th>0</th>\n",
       "      <td>6300000</td>\n",
       "      <td>0</td>\n",
       "      <td>Опалиха</td>\n",
       "      <td>6</td>\n",
       "      <td>0</td>\n",
       "      <td>1</td>\n",
       "      <td>30.6</td>\n",
       "      <td>11.1</td>\n",
       "      <td>8.5</td>\n",
       "      <td>25</td>\n",
       "      <td>25</td>\n",
       "      <td>1</td>\n",
       "      <td>0</td>\n",
       "      <td>0</td>\n",
       "      <td>0</td>\n",
       "    </tr>\n",
       "    <tr>\n",
       "      <th>1</th>\n",
       "      <td>9000000</td>\n",
       "      <td>0</td>\n",
       "      <td>Павшино</td>\n",
       "      <td>2</td>\n",
       "      <td>0</td>\n",
       "      <td>1</td>\n",
       "      <td>49.2</td>\n",
       "      <td>20.0</td>\n",
       "      <td>10.0</td>\n",
       "      <td>6</td>\n",
       "      <td>15</td>\n",
       "      <td>0</td>\n",
       "      <td>0</td>\n",
       "      <td>1</td>\n",
       "      <td>0</td>\n",
       "    </tr>\n",
       "    <tr>\n",
       "      <th>2</th>\n",
       "      <td>11090000</td>\n",
       "      <td>0</td>\n",
       "      <td>Мякинино</td>\n",
       "      <td>14</td>\n",
       "      <td>0</td>\n",
       "      <td>1</td>\n",
       "      <td>44.7</td>\n",
       "      <td>16.2</td>\n",
       "      <td>13.1</td>\n",
       "      <td>10</td>\n",
       "      <td>25</td>\n",
       "      <td>1</td>\n",
       "      <td>0</td>\n",
       "      <td>0</td>\n",
       "      <td>0</td>\n",
       "    </tr>\n",
       "    <tr>\n",
       "      <th>3</th>\n",
       "      <td>8300000</td>\n",
       "      <td>0</td>\n",
       "      <td>Строгино</td>\n",
       "      <td>8</td>\n",
       "      <td>0</td>\n",
       "      <td>1</td>\n",
       "      <td>35.1</td>\n",
       "      <td>16.0</td>\n",
       "      <td>11.0</td>\n",
       "      <td>12</td>\n",
       "      <td>33</td>\n",
       "      <td>0</td>\n",
       "      <td>0</td>\n",
       "      <td>1</td>\n",
       "      <td>0</td>\n",
       "    </tr>\n",
       "    <tr>\n",
       "      <th>4</th>\n",
       "      <td>6450000</td>\n",
       "      <td>0</td>\n",
       "      <td>Опалиха</td>\n",
       "      <td>6</td>\n",
       "      <td>0</td>\n",
       "      <td>1</td>\n",
       "      <td>37.7</td>\n",
       "      <td>15.2</td>\n",
       "      <td>4.0</td>\n",
       "      <td>5</td>\n",
       "      <td>5</td>\n",
       "      <td>0</td>\n",
       "      <td>0</td>\n",
       "      <td>0</td>\n",
       "      <td>1</td>\n",
       "    </tr>\n",
       "  </tbody>\n",
       "</table>\n",
       "</div>"
      ],
      "text/plain": [
       "      Price  Apartment type Metro station  Minutes to metro  Region  \\\n",
       "0   6300000               0       Опалиха                 6       0   \n",
       "1   9000000               0       Павшино                 2       0   \n",
       "2  11090000               0      Мякинино                14       0   \n",
       "3   8300000               0      Строгино                 8       0   \n",
       "4   6450000               0       Опалиха                 6       0   \n",
       "\n",
       "   Number of rooms  Area  Living area  Kitchen area  Floor  Number of floors  \\\n",
       "0                1  30.6         11.1           8.5     25                25   \n",
       "1                1  49.2         20.0          10.0      6                15   \n",
       "2                1  44.7         16.2          13.1     10                25   \n",
       "3                1  35.1         16.0          11.0     12                33   \n",
       "4                1  37.7         15.2           4.0      5                 5   \n",
       "\n",
       "   Renovation_Cosmetic  Renovation_Designer  \\\n",
       "0                    1                    0   \n",
       "1                    0                    0   \n",
       "2                    1                    0   \n",
       "3                    0                    0   \n",
       "4                    0                    0   \n",
       "\n",
       "   Renovation_European-style renovation  Renovation_Without renovation  \n",
       "0                                     0                              0  \n",
       "1                                     1                              0  \n",
       "2                                     0                              0  \n",
       "3                                     1                              0  \n",
       "4                                     0                              1  "
      ]
     },
     "execution_count": 23,
     "metadata": {},
     "output_type": "execute_result"
    }
   ],
   "source": [
    "df.replace('Secondary',0,inplace=True)\n",
    "df.replace('New building',1,inplace=True)\n",
    "df.replace('Moscow region',0,inplace=True)\n",
    "df.replace('Moscow',1,inplace=True)\n",
    "df = pd.get_dummies(df, columns=['Renovation'], dtype = int)\n",
    "df.head()"
   ]
  },
  {
   "cell_type": "code",
   "execution_count": 29,
   "metadata": {},
   "outputs": [],
   "source": [
    "## two types of analysis\n",
    "## number one without considering neighborhoods \n",
    "\n",
    "\n",
    "X1 = df.drop(columns=['Price','Metro station'])\n",
    "Y1 = df.Price\n",
    "\n",
    "X1_train, X1_test, Y1_train, Y1_test = train_test_split(X1, Y1, test_size=0.2 , random_state=42)\n"
   ]
  },
  {
   "cell_type": "code",
   "execution_count": 34,
   "metadata": {},
   "outputs": [
    {
     "name": "stdout",
     "output_type": "stream",
     "text": [
      "Best Parameters: {'learning_rate': 0.2, 'max_depth': 8, 'n_estimators': 120}\n",
      "Best Score: -1446538704992052.0\n"
     ]
    }
   ],
   "source": [
    "xgb = XGBRegressor()\n",
    "\n",
    "param_grid={'n_estimators':[40 , 80, 120], 'learning_rate': [0.05 , 0.1, 0.2], 'max_depth': [4,8,12]}\n",
    "\n",
    "grid_search = GridSearchCV(estimator = xgb , param_grid= param_grid, cv = 5, scoring='neg_mean_squared_error', n_jobs=-1)\n",
    "\n",
    "grid_search.fit(X1_train, Y1_train)\n",
    "\n",
    "best_params = grid_search.best_params_\n",
    "best_score = grid_search.best_score_\n",
    "\n",
    "print(\"Best Parameters:\", best_params)\n",
    "print(\"Best Score:\", best_score)"
   ]
  },
  {
   "cell_type": "code",
   "execution_count": 38,
   "metadata": {},
   "outputs": [
    {
     "name": "stdout",
     "output_type": "stream",
     "text": [
      "R^2 score on training data: 0.9949307073350305\n",
      "R^2 score on testing data: 0.732140120026145\n"
     ]
    }
   ],
   "source": [
    "model1 = XGBRegressor(n_estimators = 120, learning_rate = 0.2, max_depth = 8)\n",
    "\n",
    "model1.fit(X1_train, Y1_train)\n",
    "\n",
    "Y1_train_pred = model1.predict(X1_train)\n",
    "Y1_test_pred = model1.predict(X1_test)\n",
    "\n",
    "r2_train = r2_score(Y1_train, Y1_train_pred)\n",
    "r2_test = r2_score(Y1_test, Y1_test_pred)\n",
    "\n",
    "print(\"R^2 score on training data:\", r2_train)\n",
    "print(\"R^2 score on testing data:\", r2_test)"
   ]
  },
  {
   "cell_type": "code",
   "execution_count": 36,
   "metadata": {},
   "outputs": [],
   "source": [
    "## number two with considering neigborhoods\n",
    "\n",
    "X2 = df.drop(columns=['Price'])\n",
    "X2 = pd.get_dummies(X2, columns=['Metro station'], dtype = int)\n",
    "Y2 = df.Price\n",
    "\n",
    "X2_train, X2_test, Y2_train, Y2_test = train_test_split(X2, Y2, test_size=0.2 , random_state=42)"
   ]
  },
  {
   "cell_type": "code",
   "execution_count": 40,
   "metadata": {},
   "outputs": [
    {
     "name": "stdout",
     "output_type": "stream",
     "text": [
      "R^2 score on training data: 0.9851938825144791\n",
      "R^2 score on testing data: 0.7957331775268065\n"
     ]
    }
   ],
   "source": [
    "model2 = XGBRegressor(n_estimators = 120, learning_rate = 0.2, max_depth = 8)\n",
    "\n",
    "model2.fit(X2_train, Y2_train)\n",
    "\n",
    "Y2_train_pred = model2.predict(X2_train)\n",
    "Y2_test_pred = model2.predict(X2_test)\n",
    "\n",
    "r2_train = r2_score(Y2_train, Y2_train_pred)\n",
    "r2_test = r2_score(Y2_test, Y2_test_pred)\n",
    "\n",
    "print(\"R^2 score on training data:\", r2_train)\n",
    "print(\"R^2 score on testing data:\", r2_test)"
   ]
  }
 ],
 "metadata": {
  "kernelspec": {
   "display_name": "Python 3",
   "language": "python",
   "name": "python3"
  },
  "language_info": {
   "codemirror_mode": {
    "name": "ipython",
    "version": 3
   },
   "file_extension": ".py",
   "mimetype": "text/x-python",
   "name": "python",
   "nbconvert_exporter": "python",
   "pygments_lexer": "ipython3",
   "version": "3.10.7"
  }
 },
 "nbformat": 4,
 "nbformat_minor": 2
}
